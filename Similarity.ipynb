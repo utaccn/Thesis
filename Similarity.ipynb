{
 "cells": [
  {
   "cell_type": "code",
   "execution_count": 1,
   "id": "01956d37",
   "metadata": {},
   "outputs": [],
   "source": [
    "import numpy as np\n",
    "from sklearn.neighbors import KDTree\n",
    "import map_elites.cvt as cvt_map_elites\n",
    "import map_elites.common as cm_map_elites\n",
    "import cairo\n",
    "from PIL import Image\n",
    "import matplotlib.pyplot as plt "
   ]
  },
  {
   "cell_type": "code",
   "execution_count": 2,
   "id": "2093fed1",
   "metadata": {},
   "outputs": [],
   "source": [
    "def load_data(filename, dim,dim_x):\n",
    "    print(\"Loading \",filename)\n",
    "    data = np.loadtxt(filename)\n",
    "    fit = data[:, 0:1]\n",
    "    cent = data[:,1: dim+1]\n",
    "    desc = data[:,dim+1: 2*dim+1]\n",
    "    x = data[:,2*dim+1:2*dim+1+dim_x]\n",
    "    \n",
    "def load_centroids(filename):\n",
    "    points = np.loadtxt(filename)\n",
    "    return points\n",
    "\n",
    "def make_hashable(array):\n",
    "    return tuple(map(float, array))\n",
    "\n",
    "def getKDT(n_niches, dim_map, number):\n",
    "\n",
    "    fname = \"centroids_{}.dat\".format(number)\n",
    "    c = np.loadtxt(fname)\n",
    "    kdt = KDTree(c, leaf_size=30, metric='euclidean')\n",
    "    return kdt\n",
    "\n",
    "def draw(geno):\n",
    "    surface = cairo.ImageSurface(cairo.FORMAT_ARGB32, 10, 10)\n",
    "    ctx = cairo.Context(surface)\n",
    "    ctx.set_source_rgba(geno[0], geno[1], geno[2], 1)\n",
    "    ctx.paint()\n",
    "    return surface \n",
    "        \n",
    "        "
   ]
  },
  {
   "cell_type": "code",
   "execution_count": 3,
   "id": "19193000",
   "metadata": {},
   "outputs": [
    {
     "data": {
      "image/png": "[encoded data removed]",
      "text/plain": [
       "<Figure size 700x500 with 1 Axes>"
      ]
     },
     "metadata": {
      "needs_background": "light"
     },
     "output_type": "display_data"
    }
   ],
   "source": [
    "if __name__ == \"__main__\":\n",
    "    \n",
    "    hues = []\n",
    "    for k in range(1,2):\n",
    "        \n",
    "        centroids = load_centroids(\"centroids_{}.dat\".format(k))\n",
    "        data = np.loadtxt(\"archive_{}.dat\".format(k))\n",
    "        fit = data[:,0:1]\n",
    "        cent = data[:, 1:3]\n",
    "        desc = data[:, 3: 5]\n",
    "        geno = data[:, 5: 9]   \n",
    "        \n",
    "        for i in range(0,len(fit)):\n",
    "            img = draw(geno[i])\n",
    "            imgP = Image.frombuffer(\"RGBA\",(img.get_width(),img.get_height() ),img.get_data(),\"raw\",\"RGBA\",0,1)\n",
    "            img_HSV = imgP.convert('HSV')\n",
    "            img_HSV_arr = np.array(img_HSV)\n",
    "            hue = np.mean(img_HSV_arr[:,:,0])*360 / 255\n",
    "\n",
    "            hues.append(hue)\n",
    "            \n",
    "    #print(hues)\n",
    "    plt.rcParams.update({'figure.figsize':(7,5), 'figure.dpi':100})\n",
    "\n",
    "    # Plot Histogram on x\n",
    "    x = hues\n",
    "    plt.hist(x, bins=1000)\n",
    "    plt.gca().set(title='Frequency Histogram', ylabel='Frequency');"
   ]
  },
  {
   "cell_type": "code",
   "execution_count": 5,
   "id": "83711f0e",
   "metadata": {},
   "outputs": [
    {
     "name": "stdout",
     "output_type": "stream",
     "text": [
      "0.3340256777345454\n"
     ]
    }
   ],
   "source": [
    "if __name__ == \"__main__\":\n",
    "\n",
    "    similarity = []\n",
    "    for k in range(1,2):\n",
    "        \n",
    "        centroids = load_centroids(\"centroids_{}.dat\".format(k))\n",
    "        data = np.loadtxt(\"archive_{}.dat\".format(k))\n",
    "        fit = data[:,0:1]\n",
    "        cent = data[:, 1:3]\n",
    "        desc = data[:, 3: 5]\n",
    "        geno = data[:, 5: 9]\n",
    "        #print(\"Fit: {}\".format(fit[0]))\n",
    "        #print(\"Cent: {}\".format(cent[0]))\n",
    "        #print(\"Behavior: {}\".format(desc[0]))\n",
    "        #print(\"Geno: {}\".format(geno[0]))\n",
    "\n",
    "        test1 = np.array([0, 0, 0])\n",
    "        test2 = np.array([1, 1, 1])\n",
    "        max_pos = np.linalg.norm(test1- test2)\n",
    "        #print(\"Maximum possible distance: {}\".format(max_pos))\n",
    "\n",
    "        pair_dist = []\n",
    "        for i in range(0, len(fit)):\n",
    "            for j in range(0, len(fit)):\n",
    "                dist = np.linalg.norm(geno[i] - geno[j])\n",
    "                pair_dist.append(dist / max_pos)\n",
    "        similarity.append(sum(pair_dist) / len(pair_dist))\n",
    "        \n",
    "    print(sum(similarity)/len(similarity))"
   ]
  },
  {
   "cell_type": "code",
   "execution_count": null,
   "id": "2c9bf20c",
   "metadata": {},
   "outputs": [],
   "source": []
  }
 ],
 "metadata": {
  "kernelspec": {
   "display_name": "Python 3",
   "language": "python",
   "name": "python3"
  },
  "language_info": {
   "codemirror_mode": {
    "name": "ipython",
    "version": 3
   },
   "file_extension": ".py",
   "mimetype": "text/x-python",
   "name": "python",
   "nbconvert_exporter": "python",
   "pygments_lexer": "ipython3",
   "version": "3.7.10"
  }
 },
 "nbformat": 4,
 "nbformat_minor": 5
}
