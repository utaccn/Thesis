{
 "cells": [
  {
   "cell_type": "code",
   "execution_count": 1,
   "id": "01956d37",
   "metadata": {},
   "outputs": [],
   "source": [
    "import numpy as np\n",
    "from sklearn.neighbors import KDTree\n",
    "import map_elites.cvt as cvt_map_elites\n",
    "import map_elites.common as cm_map_elites"
   ]
  },
  {
   "cell_type": "code",
   "execution_count": 3,
   "id": "2093fed1",
   "metadata": {},
   "outputs": [
    {
     "name": "stdout",
     "output_type": "stream",
     "text": [
      "0.03267074287893047\n"
     ]
    }
   ],
   "source": [
    "def load_data(filename, dim,dim_x):\n",
    "    print(\"Loading \",filename)\n",
    "    data = np.loadtxt(filename)\n",
    "    fit = data[:, 0:1]\n",
    "    cent = data[:,1: dim+1]\n",
    "    desc = data[:,dim+1: 2*dim+1]\n",
    "    x = data[:,2*dim+1:2*dim+1+dim_x]\n",
    "    \n",
    "def load_centroids(filename):\n",
    "    points = np.loadtxt(filename)\n",
    "    return points\n",
    "\n",
    "def make_hashable(array):\n",
    "    return tuple(map(float, array))\n",
    "\n",
    "def getKDT(n_niches, dim_map, number):\n",
    "\n",
    "    fname = \"centroids_{}.dat\".format(number)\n",
    "    c = np.loadtxt(fname)\n",
    "    kdt = KDTree(c, leaf_size=30, metric='euclidean')\n",
    "    return kdt\n",
    "\n",
    "if __name__ == \"__main__\":\n",
    "\n",
    "    spr = []\n",
    "    for k in range(1,2):\n",
    "        \n",
    "        centroids = load_centroids(\"centroids_{}.dat\".format(k))\n",
    "        data = np.loadtxt(\"archive_{}.dat\".format(k))\n",
    "        fit = data[:,0:1]\n",
    "        cent = data[:, 1:3]\n",
    "        desc = data[:, 3: 5]\n",
    "        geno = data[:, 5: 9]\n",
    "        #print(\"Fit: {}\".format(fit[0]))\n",
    "        #print(\"Cent: {}\".format(cent[0]))\n",
    "        #print(\"Behavior: {}\".format(desc[0]))\n",
    "        #print(\"Geno: {}\".format(geno[0]))\n",
    "\n",
    "        test1 = np.array([0, 0, 0])\n",
    "        test2 = np.array([1, 1, 1])\n",
    "        max_pos = np.linalg.norm(test1- test2)\n",
    "        #print(\"Maximum possible distance: {}\".format(max_pos))\n",
    "\n",
    "        #print(\"-------------\")\n",
    "\n",
    "        archive = {}\n",
    "        for j in range(0, len(fit)):\n",
    "            archive[tuple(cent[j])] = [geno[j]]\n",
    "\n",
    "        kdt = getKDT(1000, 2, k)\n",
    "        distances = []\n",
    "        for i in range(0, len(fit)):\n",
    "            try:\n",
    "                test = kdt.query([np.array([desc[i][0], desc[i][1]])], k=2)[1][0]\n",
    "                niche_1= kdt.data[test[0]]\n",
    "                niche_2= kdt.data[test[1]]\n",
    "                n1 = make_hashable(niche_1)\n",
    "                n2 = make_hashable(niche_2)\n",
    "                uno = np.array(archive[n1][0])\n",
    "                due = np.array(archive[n2][0])\n",
    "                dist = np.linalg.norm(uno - due)\n",
    "                distances.append(dist/max_pos)\n",
    "            except:\n",
    "                pass\n",
    "        spr.append(sum(distances)/len(distances))\n",
    "    \n",
    "    spread = sum(spr) / len(spr)        \n",
    "    print(spread)\n",
    "        "
   ]
  },
  {
   "cell_type": "code",
   "execution_count": null,
   "id": "2c9bf20c",
   "metadata": {},
   "outputs": [],
   "source": []
  }
 ],
 "metadata": {
  "kernelspec": {
   "display_name": "Python 3",
   "language": "python",
   "name": "python3"
  },
  "language_info": {
   "codemirror_mode": {
    "name": "ipython",
    "version": 3
   },
   "file_extension": ".py",
   "mimetype": "text/x-python",
   "name": "python",
   "nbconvert_exporter": "python",
   "pygments_lexer": "ipython3",
   "version": "3.7.10"
  }
 },
 "nbformat": 4,
 "nbformat_minor": 5
}
