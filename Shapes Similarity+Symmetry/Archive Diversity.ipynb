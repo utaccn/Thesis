{
 "cells": [
  {
   "cell_type": "code",
   "execution_count": 1,
   "id": "bf649c92",
   "metadata": {},
   "outputs": [],
   "source": [
    "import cairo\n",
    "import cv2\n",
    "from math import pi\n",
    "import random\n",
    "import math\n",
    "from PIL import Image\n",
    "import numpy as np\n",
    "from scipy.spatial import distance\n",
    "import matplotlib.pyplot as plt "
   ]
  },
  {
   "cell_type": "code",
   "execution_count": 2,
   "id": "42fb30f9",
   "metadata": {},
   "outputs": [],
   "source": [
    "def polar_to_cart(theta, dist):\n",
    "    \n",
    "    x = 1 + dist * math.cos(theta)\n",
    "    y = 1 + dist * math.sin(theta)\n",
    "    \n",
    "    return x,y\n",
    "\n",
    "t = math.pi/180.0\n",
    "\n",
    "def remap(old_val, old_min, old_max, new_min, new_max):\n",
    "    return (new_max - new_min)*(old_val - old_min) / (old_max - old_min) + new_min\n",
    "\n",
    "def draw(geno):\n",
    "    \n",
    "    \n",
    "    surface = cairo.ImageSurface(cairo.FORMAT_ARGB32, 100, 100)\n",
    "    ctx = cairo.Context(surface)\n",
    "\n",
    "    ctx.scale(50, 50)\n",
    "    # Paint the background\n",
    "    ctx.set_source_rgb(0, 0 , 0)\n",
    "    ctx.paint()\n",
    "\n",
    "    r1 = remap(geno[8], 0, 1,0.1, 1)\n",
    "    r2 = remap(geno[9], 0, 1,0.1, 1)\n",
    "    r3 = remap(geno[10], 0, 1,0.1, 1)\n",
    "    r4 = remap(geno[11], 0, 1,0.1, 1)\n",
    "    r5 = remap(geno[12], 0, 1,0.1, 1)\n",
    "    r6 = remap(geno[13], 0, 1,0.1, 1)\n",
    "    r7 = remap(geno[14], 0, 1,0.1, 1)\n",
    "    r8 = remap(geno[15], 0, 1,0.1, 1)\n",
    "\n",
    "    # Draw the image\n",
    "    firstx, firsty = polar_to_cart((0 + geno[0])*45*t, r1)\n",
    "    secondx, secondy = polar_to_cart((1 + geno[1])*45*t, r2)\n",
    "    thirdx, thirdy = polar_to_cart((2 + geno[2])*45*t, r3)\n",
    "    forthx, forthy = polar_to_cart((3 + geno[3])*45*t, r4)\n",
    "    fifthx, fifthy = polar_to_cart((4 + geno[4])*45*t, r5)\n",
    "    sixthx, sixthy = polar_to_cart((5 + geno[5])*45*t, r6)\n",
    "    seventhx, seventhy = polar_to_cart((6 + geno[6])*45*t, r7)\n",
    "    eigthx, eigthy = polar_to_cart((7 + geno[7])*45*t, r8)\n",
    "    ctx.move_to(firstx, firsty)\n",
    "\n",
    "    ctx.line_to(secondx, secondy)\n",
    "    ctx.line_to(thirdx, thirdy)\n",
    "    ctx.line_to(forthx, forthy)\n",
    "    ctx.line_to(fifthx, fifthy)\n",
    "    ctx.line_to(sixthx, sixthy)\n",
    "    ctx.line_to(seventhx, seventhy)\n",
    "    ctx.line_to(eigthx, eigthy)\n",
    "    \n",
    "    ctx.close_path()\n",
    "    ctx.set_source_rgb(1, 1, 1)\n",
    "    ctx.fill_preserve()\n",
    "    \n",
    "\n",
    "    return surface"
   ]
  },
  {
   "cell_type": "code",
   "execution_count": 3,
   "id": "655b05b6",
   "metadata": {},
   "outputs": [
    {
     "name": "stdout",
     "output_type": "stream",
     "text": [
      "MaxDist3 max : 0.4333\n",
      "Standard max : 0.5282\n"
     ]
    },
    {
     "data": {
      "image/png": "[encoded data removed]",
      "text/plain": [
       "<Figure size 576x432 with 1 Axes>"
      ]
     },
     "metadata": {
      "needs_background": "light"
     },
     "output_type": "display_data"
    }
   ],
   "source": [
    "def load_data(filename, dim,dim_x):\n",
    "    print(\"Loading \",filename)\n",
    "    data = np.loadtxt(filename)\n",
    "    fit = data[:, 0:1]\n",
    "    cent = data[:,1: dim+1]\n",
    "    desc = data[:,dim+1: 2*dim+1]\n",
    "    x = data[:,2*dim+1:2*dim+1+dim_x]\n",
    "    \n",
    "def load_centroids(filename):\n",
    "    points = np.loadtxt(filename)\n",
    "    return points\n",
    "\n",
    "\n",
    "diversity_myversion3 = []\n",
    "\n",
    "centroids_myversion3 = load_centroids(\"centroids_myversion3.dat\")\n",
    "data_myversion3 = np.loadtxt(\"archive_myversion3.dat\")\n",
    "fit_myversion3 = data_myversion3[:,0:1]\n",
    "cent_myversion3 = data_myversion3[:, 1:3]\n",
    "desc_myversion3 = data_myversion3[:, 3: 5]\n",
    "geno_myversion3 = data_myversion3[:, 5: 21]\n",
    "#print(\"Fit: {}\".format(fit[1]))\n",
    "#print(\"Cent: {}\".format(cent[1]))\n",
    "#print(\"Behavior: {}\".format(desc[1]))\n",
    "#print(\"Geno: {}\".format(geno[1]))\n",
    "\n",
    "for j in range(0, fit_myversion3.shape[0]):    \n",
    "    img1 = draw(geno_myversion3[j])\n",
    "    imgP1 = Image.frombuffer(\"RGBA\",( img1.get_width(),img1.get_height() ),img1.get_data(),\"raw\",\"RGBA\",0,1)\n",
    "    img_arr1 = np.array(imgP1)\n",
    "    flat1 = img_arr1[:,:,0].flatten()\n",
    "    \n",
    "    \n",
    "    for k in range(0, fit_myversion3.shape[0]):\n",
    "        img2 = draw(geno_myversion3[k])\n",
    "        imgP2 = Image.frombuffer(\"RGBA\",( img2.get_width(),img2.get_height() ),img2.get_data(),\"raw\",\"RGBA\",0,1)\n",
    "        img_arr2 = np.array(imgP2)\n",
    "        flat2 = img_arr2[:,:,0].flatten()\n",
    "        dist = distance.hamming(flat1,flat2)\n",
    "        diversity_myversion3.append(dist)\n",
    "\n",
    "diversity_myversion7 = []\n",
    "\n",
    "centroids_myversion7 = load_centroids(\"centroids_myversion7.dat\")\n",
    "data_myversion7 = np.loadtxt(\"archive_myversion7.dat\")\n",
    "fit_myversion7 = data_myversion7[:,0:1]\n",
    "cent_myversion7 = data_myversion7[:, 1:3]\n",
    "desc_myversion7 = data_myversion7[:, 3: 5]\n",
    "geno_myversion7 = data_myversion7[:, 5: 21]\n",
    "#print(\"Fit: {}\".format(fit[1]))\n",
    "#print(\"Cent: {}\".format(cent[1]))\n",
    "#print(\"Behavior: {}\".format(desc[1]))\n",
    "#print(\"Geno: {}\".format(geno[1]))\n",
    "\n",
    "for j in range(0, fit_myversion7.shape[0]):    \n",
    "    img1 = draw(geno_myversion7[j])\n",
    "    imgP1 = Image.frombuffer(\"RGBA\",( img1.get_width(),img1.get_height() ),img1.get_data(),\"raw\",\"RGBA\",0,1)\n",
    "    img_arr1 = np.array(imgP1)\n",
    "    flat1 = img_arr1[:,:,0].flatten()\n",
    "    \n",
    "    \n",
    "    for k in range(0, fit_myversion7.shape[0]):\n",
    "        img2 = draw(geno_myversion7[k])\n",
    "        imgP2 = Image.frombuffer(\"RGBA\",( img2.get_width(),img2.get_height() ),img2.get_data(),\"raw\",\"RGBA\",0,1)\n",
    "        img_arr2 = np.array(imgP2)\n",
    "        flat2 = img_arr2[:,:,0].flatten()\n",
    "        dist = distance.hamming(flat1,flat2)\n",
    "        diversity_myversion7.append(dist)\n",
    "        \n",
    "diversity_standard = []\n",
    "\n",
    "centroids_standard = load_centroids(\"centroids_standard.dat\")\n",
    "data_standard = np.loadtxt(\"archive_standard.dat\")\n",
    "fit_standard = data_standard[:,0:1]\n",
    "cent_standard = data_standard[:, 1:3]\n",
    "desc_standard = data_standard[:, 3: 5]\n",
    "geno_standard = data_standard[:, 5: 21]\n",
    "#print(\"Fit: {}\".format(fit[1]))\n",
    "#print(\"Cent: {}\".format(cent[1]))\n",
    "#print(\"Behavior: {}\".format(desc[1]))\n",
    "#print(\"Geno: {}\".format(geno[1]))\n",
    "\n",
    "for j in range(0, fit_standard.shape[0]):    \n",
    "    img1 = draw(geno_standard[j])\n",
    "    imgP1 = Image.frombuffer(\"RGBA\",( img1.get_width(),img1.get_height() ),img1.get_data(),\"raw\",\"RGBA\",0,1)\n",
    "    img_arr1 = np.array(imgP1)\n",
    "    flat1 = img_arr1[:,:,0].flatten()\n",
    "    \n",
    "    \n",
    "    for k in range(0, fit_standard.shape[0]):\n",
    "        img2 = draw(geno_standard[k])\n",
    "        imgP2 = Image.frombuffer(\"RGBA\",( img2.get_width(),img2.get_height() ),img2.get_data(),\"raw\",\"RGBA\",0,1)\n",
    "        img_arr2 = np.array(imgP2)\n",
    "        flat2 = img_arr2[:,:,0].flatten()\n",
    "        dist = distance.hamming(flat1,flat2)\n",
    "        diversity_standard.append(dist)\n",
    "\n",
    "    \n",
    "#Histogram\n",
    "\n",
    "plt.figure(figsize=(8,6))\n",
    "plt.hist(diversity_myversion3, bins=1000, alpha=0.5, label=\"MaxDist3\")\n",
    "plt.hist(diversity_standard, bins=1000, alpha=0.5, label=\"standard\")\n",
    "plt.xlabel(\"Distance\", size=14)\n",
    "plt.ylabel(\"Count\", size=14)\n",
    "plt.title(\"Archive Diversity MaxDist3 Fit\")\n",
    "plt.legend(loc='upper right')\n",
    "plt.savefig(\"Archive Diversity MaxDist3 Fit.png\")\n",
    "print(\"MaxDist3 max : {}\".format(max(diversity_myversion3)))\n",
    "print(\"Standard max : {}\".format(max(diversity_standard)))"
   ]
  },
  {
   "cell_type": "code",
   "execution_count": 16,
   "id": "4d1f8335",
   "metadata": {},
   "outputs": [
    {
     "data": {
      "image/png": "[encoded data removed]",
      "text/plain": [
       "<Figure size 576x432 with 1 Axes>"
      ]
     },
     "metadata": {
      "needs_background": "light"
     },
     "output_type": "display_data"
    }
   ],
   "source": [
    "#Histogram\n",
    "\n",
    "plt.figure(figsize=(8,6))\n",
    "plt.hist(diversity_myversion7, bins=1000, alpha=0.5, label=\"MaxDist7\")\n",
    "plt.hist(diversity_standard, bins=1000, alpha=0.5, label=\"standard\")\n",
    "plt.xlabel(\"Distance\", size=14)\n",
    "plt.ylabel(\"Count\", size=14)\n",
    "plt.title(\"Archive Diversity MaxDist7 Fit\")\n",
    "plt.legend(loc='upper right')\n",
    "plt.savefig(\"Archive Diversity MaxDist7 Fit.png\")\n"
   ]
  },
  {
   "cell_type": "code",
   "execution_count": 4,
   "id": "63edc560",
   "metadata": {
    "scrolled": true
   },
   "outputs": [
    {
     "name": "stdout",
     "output_type": "stream",
     "text": [
      "MaxDist7 max : -0.039591796819704386\n",
      "Standard max : [-0.05466455]\n",
      "MaxDist7 mean : -0.1761403148195191\n",
      "Standard mean : -0.18767019341161104\n"
     ]
    },
    {
     "data": {
      "image/png": "[encoded data removed]",
      "text/plain": [
       "<Figure size 576x432 with 1 Axes>"
      ]
     },
     "metadata": {
      "needs_background": "light"
     },
     "output_type": "display_data"
    }
   ],
   "source": [
    "def real_fit(geno):\n",
    "    r1 = remap(geno[8], 0, 1,0.1, 1)\n",
    "    r2 = remap(geno[9], 0, 1,0.1, 1)\n",
    "    r3 = remap(geno[10], 0, 1,0.1, 1)\n",
    "    r4 = remap(geno[11], 0, 1,0.1, 1)\n",
    "    r5 = remap(geno[12], 0, 1,0.1, 1)\n",
    "    r6 = remap(geno[13], 0, 1,0.1, 1)\n",
    "    r7 = remap(geno[14], 0, 1,0.1, 1)\n",
    "    r8 = remap(geno[15], 0, 1,0.1, 1)\n",
    "\n",
    "    x = abs(r1*math.cos(geno[0]*45*t) - r5*math.cos(geno[4]*45*t)) + abs(r2*math.cos(geno[1]*45*t) - r6*math.cos(geno[5]*45*t)) + abs(r3*math.cos(geno[2]*45*t) - r7*math.cos(geno[6]*45*t)) + abs(r4*math.cos(geno[3]*45*t) - r8*math.cos(geno[7]*45*t))\n",
    "    y = abs(r1*math.sin(geno[0]*45*t) - r5*math.sin(geno[4]*45*t)) + abs(r2*math.sin(geno[1]*45*t) - r6*math.sin(geno[5]*45*t)) + abs(r3*math.sin(geno[2]*45*t) - r7*math.sin(geno[6]*45*t)) + abs(r4*math.sin(geno[3]*45*t) - r8*math.sin(geno[7]*45*t))\n",
    "\n",
    "    simmetry = - (x+y)\n",
    "    return simmetry\n",
    "\n",
    "real_fit_list = []\n",
    "for j in range(0, len(fit_myversion7)):\n",
    "    real_fit_list.append(real_fit(geno_myversion7[j]))\n",
    "    \n",
    "#Histogram fitness\n",
    "\n",
    "plt.figure(figsize=(8,6))\n",
    "plt.hist(real_fit_list, bins=3, alpha=0.5, label=\"MaxDist7\")\n",
    "plt.hist(fit_standard, bins=3, alpha=0.5, label=\"standard\")\n",
    "plt.xlabel(\"Fit\", size=14)\n",
    "plt.ylabel(\"Count\", size=14)\n",
    "plt.title(\"Archive Fitness MaxDist7\")\n",
    "plt.legend(loc='upper right')\n",
    "plt.savefig(\"Archive Fitness MaxDist7.png\")\n",
    "print(\"MaxDist7 max : {}\".format(max(real_fit_list)))\n",
    "print(\"Standard max : {}\".format(max(fit_standard)))\n",
    "print(\"MaxDist7 mean : {}\".format(np.mean(real_fit_list)))\n",
    "print(\"Standard mean : {}\".format(np.mean(fit_standard)))"
   ]
  },
  {
   "cell_type": "code",
   "execution_count": null,
   "id": "2d158d68",
   "metadata": {},
   "outputs": [],
   "source": []
  }
 ],
 "metadata": {
  "kernelspec": {
   "display_name": "Python 3",
   "language": "python",
   "name": "python3"
  },
  "language_info": {
   "codemirror_mode": {
    "name": "ipython",
    "version": 3
   },
   "file_extension": ".py",
   "mimetype": "text/x-python",
   "name": "python",
   "nbconvert_exporter": "python",
   "pygments_lexer": "ipython3",
   "version": "3.7.10"
  }
 },
 "nbformat": 4,
 "nbformat_minor": 5
}
