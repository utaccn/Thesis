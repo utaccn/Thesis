{
 "cells": [
  {
   "cell_type": "code",
   "execution_count": 1,
   "id": "01956d37",
   "metadata": {},
   "outputs": [],
   "source": [
    "import numpy as np\n",
    "from sklearn.neighbors import KDTree\n",
    "import map_elites.cvt as cvt_map_elites\n",
    "import map_elites.common as cm_map_elites\n",
    "import cairo\n",
    "from PIL import Image\n",
    "import matplotlib.pyplot as plt "
   ]
  },
  {
   "cell_type": "code",
   "execution_count": 2,
   "id": "2093fed1",
   "metadata": {},
   "outputs": [],
   "source": [
    "def load_data(filename, dim,dim_x):\n",
    "    print(\"Loading \",filename)\n",
    "    data = np.loadtxt(filename)\n",
    "    fit = data[:, 0:1]\n",
    "    cent = data[:,1: dim+1]\n",
    "    desc = data[:,dim+1: 2*dim+1]\n",
    "    x = data[:,2*dim+1:2*dim+1+dim_x]\n",
    "    \n",
    "def load_centroids(filename):\n",
    "    points = np.loadtxt(filename)\n",
    "    return points\n",
    "\n",
    "def make_hashable(array):\n",
    "    return tuple(map(float, array))\n",
    "\n",
    "def getKDT(n_niches, dim_map, number):\n",
    "\n",
    "    fname = \"centroids_{}.dat\".format(number)\n",
    "    c = np.loadtxt(fname)\n",
    "    kdt = KDTree(c, leaf_size=30, metric='euclidean')\n",
    "    return kdt\n",
    "\n",
    "def draw(geno):\n",
    "    surface = cairo.ImageSurface(cairo.FORMAT_ARGB32, 10, 10)\n",
    "    ctx = cairo.Context(surface)\n",
    "    ctx.set_source_rgba(geno[0], geno[1], geno[2], 1)\n",
    "    ctx.paint()\n",
    "    return surface \n",
    "        \n",
    "def pilImageFromCairoSurface( surface ):\n",
    "    cairoFormat = surface.get_format()\n",
    "    if cairoFormat == cairo.FORMAT_ARGB32:\n",
    "        pilMode = 'RGB'\n",
    "        # Cairo has ARGB. Convert this to RGB for PIL which supports only RGB or\n",
    "        # RGBA.\n",
    "        argbArray = np.frombuffer( surface.get_data().tobytes(), 'c' ).reshape( -1, 4 )\n",
    "        rgbArray = argbArray[ :, 2::-1 ]\n",
    "        pilData = rgbArray.reshape( -1 ).tobytes()\n",
    "    else:\n",
    "        raise ValueError( 'Unsupported cairo format: %d' % cairoFormat )\n",
    "    pilImage = Image.frombuffer( pilMode,\n",
    "    ( surface.get_width(), surface.get_height() ), pilData, \"raw\", pilMode, 0, 1 )\n",
    "    pilImage = pilImage.convert( 'RGB' )\n",
    "    return pilImage        "
   ]
  },
  {
   "cell_type": "code",
   "execution_count": 3,
   "id": "4b60fef9",
   "metadata": {},
   "outputs": [
    {
     "name": "stdout",
     "output_type": "stream",
     "text": [
      "985\n",
      "Percentage archive fill: 985.0\n"
     ]
    },
    {
     "data": {
      "image/png": "[encoded data removed]",
      "text/plain": [
       "<Figure size 700x500 with 1 Axes>"
      ]
     },
     "metadata": {
      "needs_background": "light"
     },
     "output_type": "display_data"
    }
   ],
   "source": [
    "if __name__ == \"__main__\":\n",
    "    \n",
    "    archive_fill = []\n",
    "    hues = []\n",
    "    #for k in range(1,10):\n",
    "        \n",
    "    centroids = load_centroids(\"centroids_{}.dat\".format(2))\n",
    "    data = np.loadtxt(\"archive_{}.dat\".format(2))\n",
    "    fit = data[:,0:1]\n",
    "    cent = data[:, 1:3]\n",
    "    desc = data[:, 3: 5]\n",
    "    geno = data[:, 5: 9]   \n",
    "\n",
    "    percentage = len(fit)\n",
    "    print(percentage)\n",
    "    archive_fill.append(percentage)\n",
    "\n",
    "    for i in range(0,len(fit)):\n",
    "        img = draw(geno[i])\n",
    "        imgP = Image.frombuffer(\"RGBA\",(img.get_width(),img.get_height() ),img.get_data(),\"raw\",\"RGBA\",0,1)\n",
    "        img_HSV = imgP.convert('HSV')\n",
    "        img_HSV_arr = np.array(img_HSV)\n",
    "        hue = np.mean(img_HSV_arr[:,:,0])*360 / 255\n",
    "\n",
    "        hues.append(hue)\n",
    "            \n",
    "    tot_filled = sum(archive_fill) / len(archive_fill)\n",
    "    print(\"Percentage archive fill: {}\".format(tot_filled))\n",
    "            \n",
    "    #print(hues)\n",
    "    plt.rcParams.update({'figure.figsize':(7,5), 'figure.dpi':100})\n",
    "\n",
    "    # Plot Histogram on x\n",
    "    x = hues\n",
    "    plt.hist(x, bins=360)\n",
    "    #plt.gca().set(title='Hue Frequency MaxDist7', ylabel='Occurrence', xlabel= 'Hue')\n",
    "    plt.xlabel('Hue')\n",
    "    plt.ylabel('Occurence')\n",
    "    plt.title(\"Hue Frequency Average7 Test1\")\n",
    "    #plt.savefig(\"Hue_Histogram_MaxDist7.png\")"
   ]
  },
  {
   "cell_type": "code",
   "execution_count": 3,
   "id": "19193000",
   "metadata": {},
   "outputs": [
    {
     "name": "stdout",
     "output_type": "stream",
     "text": [
      "983\n",
      "985\n",
      "986\n",
      "986\n",
      "987\n",
      "980\n",
      "984\n",
      "986\n",
      "987\n",
      "Percentage archive fill: 984.8888888888889\n"
     ]
    },
    {
     "data": {
      "image/png": "[encoded data removed]",
      "text/plain": [
       "<Figure size 700x500 with 1 Axes>"
      ]
     },
     "metadata": {
      "needs_background": "light"
     },
     "output_type": "display_data"
    }
   ],
   "source": [
    "if __name__ == \"__main__\":\n",
    "    \n",
    "    archive_fill = []\n",
    "    hues = []\n",
    "    for k in range(1,10):\n",
    "        \n",
    "        centroids = load_centroids(\"centroids_{}.dat\".format(k))\n",
    "        data = np.loadtxt(\"archive_{}.dat\".format(k))\n",
    "        fit = data[:,0:1]\n",
    "        cent = data[:, 1:3]\n",
    "        desc = data[:, 3: 5]\n",
    "        geno = data[:, 5: 9]\n",
    "        \n",
    "        percentage = len(fit)\n",
    "        print(percentage)\n",
    "        archive_fill.append(percentage)\n",
    "        \n",
    "        for i in range(0,len(fit)):\n",
    "            img = draw(geno[i])\n",
    "            imgP = Image.frombuffer(\"RGBA\",(img.get_width(),img.get_height() ),img.get_data(),\"raw\",\"RGBA\",0,1)\n",
    "            img_HSV = imgP.convert('HSV')\n",
    "            img_HSV_arr = np.array(img_HSV)\n",
    "            hue = np.mean(img_HSV_arr[:,:,0])*360 / 255\n",
    "\n",
    "            hues.append(hue)\n",
    "    \n",
    "    tot_filled = sum(archive_fill) / len(archive_fill)\n",
    "    print(\"Percentage archive fill: {}\".format(tot_filled))\n",
    "    #print(hues)\n",
    "    plt.rcParams.update({'figure.figsize':(7,5), 'figure.dpi':100})\n",
    "\n",
    "    # Plot Histogram on x\n",
    "    x = hues\n",
    "    plt.hist(x, bins=360)\n",
    "    #plt.gca().set(title='Hue Frequency Average7', ylabel='Occurrence', xlabel= 'Hue')\n",
    "    plt.xlabel('Hue')\n",
    "    plt.ylabel('Occurence')\n",
    "    plt.title(\"Hue Frequency Average7\")\n",
    "    plt.savefig(\"Hue_Histogram_Average7.png\")"
   ]
  },
  {
   "cell_type": "code",
   "execution_count": 4,
   "id": "83711f0e",
   "metadata": {},
   "outputs": [
    {
     "name": "stdout",
     "output_type": "stream",
     "text": [
      "Similarity geno : 0.3368034585486883\n",
      "Similarity pheno : 0.37199190815544614\n"
     ]
    }
   ],
   "source": [
    "if __name__ == \"__main__\":\n",
    "\n",
    "    similarity_geno = []\n",
    "    similarity_pheno = []\n",
    "    for k in range(1,10):\n",
    "        \n",
    "        centroids = load_centroids(\"centroids_{}.dat\".format(k))\n",
    "        data = np.loadtxt(\"archive_{}.dat\".format(k))\n",
    "        fit = data[:,0:1]\n",
    "        cent = data[:, 1:3]\n",
    "        desc = data[:, 3: 5]\n",
    "        geno = data[:, 5: 9]\n",
    "        #print(\"Fit: {}\".format(fit[0]))\n",
    "        #print(\"Cent: {}\".format(cent[0]))\n",
    "        #print(\"Behavior: {}\".format(desc[0]))\n",
    "        #print(\"Geno: {}\".format(geno[0]))\n",
    "\n",
    "        test1 = np.array([0, 0, 0])\n",
    "        test2 = np.array([1, 1, 1])\n",
    "        max_pos = np.linalg.norm(test1- test2)\n",
    "        #print(\"Maximum possible distance: {}\".format(max_pos))\n",
    "\n",
    "        pair_dist_geno = []\n",
    "        pair_dist_pheno = []\n",
    "        for i in range(0, len(fit)):\n",
    "            for j in range(0, len(fit)):\n",
    "                dist_geno = np.linalg.norm(geno[i] - geno[j])\n",
    "                pair_dist_geno.append(dist_geno / max_pos)\n",
    "                \n",
    "                img_uno = draw(geno[i])\n",
    "                img_due = draw(geno[j])\n",
    "                imgP1 = pilImageFromCairoSurface(img_uno)\n",
    "                imgP2 = pilImageFromCairoSurface(img_due)\n",
    "                img_HSV_uno = imgP1.convert('HSV')\n",
    "                img_HSV_due = imgP2.convert('HSV')\n",
    "                img_HSV_arr_uno = np.array(img_HSV_uno)\n",
    "                img_HSV_arr_due = np.array(img_HSV_due)\n",
    "                one = [img_HSV_arr_uno[5,5,0]/255, img_HSV_arr_uno[5,5,1]/255, img_HSV_arr_uno[5,5,2]/255]\n",
    "                two = [img_HSV_arr_due[5,5,0]/255, img_HSV_arr_due[5,5,1]/255, img_HSV_arr_due[5,5,2]/255]\n",
    "                one = np.array(one)\n",
    "                two = np.array(two)\n",
    "                dist_pheno = np.linalg.norm(one - two)\n",
    "                pair_dist_pheno.append(dist_pheno / max_pos)\n",
    "                \n",
    "        similarity_geno.append(sum(pair_dist_geno) / len(pair_dist_geno))\n",
    "        similarity_pheno.append(sum(pair_dist_pheno) / len(pair_dist_pheno))\n",
    "        \n",
    "    sim_geno = sum(similarity_geno)/len(similarity_geno)\n",
    "    sim_pheno = sum(similarity_pheno)/len(similarity_pheno)\n",
    "    \n",
    "    print(\"Similarity geno : {}\".format(sim_geno))\n",
    "    print(\"Similarity pheno : {}\".format(sim_pheno))"
   ]
  },
  {
   "cell_type": "code",
   "execution_count": null,
   "id": "7adf2776",
   "metadata": {},
   "outputs": [],
   "source": []
  }
 ],
 "metadata": {
  "kernelspec": {
   "display_name": "Python 3",
   "language": "python",
   "name": "python3"
  },
  "language_info": {
   "codemirror_mode": {
    "name": "ipython",
    "version": 3
   },
   "file_extension": ".py",
   "mimetype": "text/x-python",
   "name": "python",
   "nbconvert_exporter": "python",
   "pygments_lexer": "ipython3",
   "version": "3.7.10"
  }
 },
 "nbformat": 4,
 "nbformat_minor": 5
}
