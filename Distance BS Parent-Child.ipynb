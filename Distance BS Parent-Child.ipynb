{
 "cells": [
  {
   "cell_type": "code",
   "execution_count": 13,
   "id": "01956d37",
   "metadata": {},
   "outputs": [],
   "source": [
    "import numpy as np\n",
    "import scipy\n",
    "from scipy import stats\n",
    "import matplotlib.pyplot as plt "
   ]
  },
  {
   "cell_type": "code",
   "execution_count": 14,
   "id": "2093fed1",
   "metadata": {},
   "outputs": [],
   "source": [
    "def load_data(filename, dim,dim_x):\n",
    "    print(\"Loading \",filename)\n",
    "    data = np.loadtxt(filename)\n",
    "    fit = data[:, 0:1]\n",
    "    cent = data[:,1: dim+1]\n",
    "    desc = data[:,dim+1: 2*dim+1]\n",
    "    x = data[:,2*dim+1:2*dim+1+dim_x]\n",
    "\n",
    "def load_centroids(filename):\n",
    "    points = np.loadtxt(filename)\n",
    "    return points\n",
    "        "
   ]
  },
  {
   "cell_type": "code",
   "execution_count": 16,
   "id": "19193000",
   "metadata": {},
   "outputs": [
    {
     "name": "stdout",
     "output_type": "stream",
     "text": [
      "ANOVA maxdist for parent 1 : F_onewayResult(statistic=127.14139890226895, pvalue=1.2849246971988868e-28)\n",
      "ANOVA maxdist for parent 2 : F_onewayResult(statistic=137.9351046896741, pvalue=7.888114334437009e-31)\n",
      "ANOVA maxdist for parent 1 : F_onewayResult(statistic=180.96147676726756, pvalue=1.5819799811823476e-39)\n",
      "ANOVA maxdist for parent 2 : F_onewayResult(statistic=211.0442343210231, pvalue=1.6939152804684746e-45)\n"
     ]
    }
   ],
   "source": [
    "if __name__ == \"__main__\":\n",
    "    \n",
    "    distp1_standard = []\n",
    "    distp2_standard = []\n",
    "    distp1_maxdist = []\n",
    "    distp2_maxdist = []\n",
    "    distp1_avg = []\n",
    "    distp2_avg = []\n",
    "    \n",
    "    #for j in range(1, 10):\n",
    "        \n",
    "    centroids = load_centroids(\"centroids_standard.dat\")\n",
    "    data = np.loadtxt(\"archive_standard.dat\")\n",
    "    fit = data[:,0:1]\n",
    "    cent = data[:, 1:3]\n",
    "    desc = data[:, 3: 5]\n",
    "    geno = data[:, 5: 8]   \n",
    "    p1 = data[:, 8: 10]\n",
    "    p2 = data[:, 10: 12]\n",
    "\n",
    "    dist_p1 = []\n",
    "    dist_p2 = []\n",
    "\n",
    "    for k in range(0, fit.shape[0]):\n",
    "        distp1_standard.append(np.linalg.norm(desc[k] - p1[k]))\n",
    "        distp2_standard.append(np.linalg.norm(desc[k] - p2[k]))\n",
    "    \n",
    "    \n",
    "    \n",
    "    centroids = load_centroids(\"centroids_maxdist.dat\")\n",
    "    data = np.loadtxt(\"archive_maxdist.dat\")\n",
    "    fit = data[:,0:1]\n",
    "    cent = data[:, 1:3]\n",
    "    desc = data[:, 3: 5]\n",
    "    geno = data[:, 5: 8]   \n",
    "    p1 = data[:, 8: 10]\n",
    "    p2 = data[:, 10: 12]\n",
    "\n",
    "    dist_p1 = []\n",
    "    dist_p2 = []\n",
    "\n",
    "    for k in range(0, fit.shape[0]):\n",
    "        distp1_maxdist.append(np.linalg.norm(desc[k] - p1[k]))\n",
    "        distp2_maxdist.append(np.linalg.norm(desc[k] - p2[k]))\n",
    "    \n",
    "\n",
    "    centroids = load_centroids(\"centroids_avg.dat\")\n",
    "    data = np.loadtxt(\"archive_avg.dat\")\n",
    "    fit = data[:,0:1]\n",
    "    cent = data[:, 1:3]\n",
    "    desc = data[:, 3: 5]\n",
    "    geno = data[:, 5: 8]   \n",
    "    p1 = data[:, 8: 10]\n",
    "    p2 = data[:, 10: 12]\n",
    "\n",
    "\n",
    "    for k in range(0, fit.shape[0]):\n",
    "        distp1_avg.append(np.linalg.norm(desc[k] - p1[k]))\n",
    "        distp2_avg.append(np.linalg.norm(desc[k] - p2[k]))\n",
    "\n",
    "\n",
    "    \n",
    "    p1_maxdist = scipy.stats.f_oneway(distp1_standard, distp1_maxdist)\n",
    "    p2_maxdist = scipy.stats.f_oneway(distp2_standard, distp2_maxdist)\n",
    "    \n",
    "    p1_avg = scipy.stats.f_oneway(distp1_standard, distp1_avg)\n",
    "    p2_avg = scipy.stats.f_oneway(distp2_standard, distp2_avg)\n",
    "    \n",
    "    print(\"ANOVA maxdist for parent 1 : {}\".format(p1_maxdist))\n",
    "    print(\"ANOVA maxdist for parent 2 : {}\".format(p2_maxdist))\n",
    "    print(\"ANOVA maxdist for parent 1 : {}\".format(p1_avg))\n",
    "    print(\"ANOVA maxdist for parent 2 : {}\".format(p2_avg))"
   ]
  },
  {
   "cell_type": "code",
   "execution_count": null,
   "id": "83711f0e",
   "metadata": {},
   "outputs": [],
   "source": []
  },
  {
   "cell_type": "code",
   "execution_count": null,
   "id": "2c9bf20c",
   "metadata": {},
   "outputs": [],
   "source": []
  }
 ],
 "metadata": {
  "kernelspec": {
   "display_name": "Python 3",
   "language": "python",
   "name": "python3"
  },
  "language_info": {
   "codemirror_mode": {
    "name": "ipython",
    "version": 3
   },
   "file_extension": ".py",
   "mimetype": "text/x-python",
   "name": "python",
   "nbconvert_exporter": "python",
   "pygments_lexer": "ipython3",
   "version": "3.7.10"
  }
 },
 "nbformat": 4,
 "nbformat_minor": 5
}
